{
 "cells": [
  {
   "cell_type": "code",
   "execution_count": 1,
   "metadata": {},
   "outputs": [],
   "source": [
    "import selenium\n",
    "from selenium import webdriver\n",
    "from bs4 import BeautifulSoup\n",
    "import requests\n",
    "import time\n",
    "from selenium.common.exceptions import NoSuchElementException\n",
    "from selenium.webdriver.common.keys import Keys\n",
    "from selenium.webdriver.common.by import By\n",
    "from selenium.webdriver.support.ui import WebDriverWait\n",
    "from selenium.webdriver.support import expected_conditions as EC\n",
    "\n",
    "import pandas as pd\n",
    "\n",
    "import warnings\n",
    "warnings.filterwarnings('ignore')"
   ]
  },
  {
   "cell_type": "code",
   "execution_count": 2,
   "metadata": {},
   "outputs": [],
   "source": [
    "driver = webdriver.Chrome(r\"C:\\Users\\ASUS\\chromedriver.exe\")"
   ]
  },
  {
   "cell_type": "code",
   "execution_count": 4,
   "metadata": {},
   "outputs": [],
   "source": [
    "# This function is define to take input and generate a range of date's\n",
    "def start_date(year,month,day,no_of_days):# Enter year, month and day from when you want to start scrapping\n",
    "    date_range =[]\n",
    "    import datetime\n",
    "    from datetime import date\n",
    "    date = datetime.date(year, month, day)\n",
    "    str_date = date.strftime(\"%Y-%m-%d\")\n",
    "\n",
    "    date = pd.date_range(start=str_date,periods=no_of_days)# You can change the the periods to extract more no. of days data and frequency\n",
    "    for i in date:\n",
    "        date_range.append('{:%Y-%m-%d}'.format(i))# Converting date into proper format\n",
    "    return date_range\n",
    "\n",
    "'''Here i am fetching the data with frequency of 6 days. So that every week price can cover init'''\n",
    "date_range = start_date(2021,11,28,7)# Pass year, month,day and no_of_days here"
   ]
  },
  {
   "cell_type": "code",
   "execution_count": 5,
   "metadata": {},
   "outputs": [],
   "source": [
    "source=[]\n",
    "destination=[]\n",
    "date_of_journey=[]\n",
    "fare =[]\n",
    "duration =[]\n",
    "arrival_time = []\n",
    "departure_time= []\n",
    "stops =[]\n",
    "Name=[]\n",
    "\n",
    "\n",
    "# Passing locations in list\n",
    "boarding = [\"BLR-Bengaluru\",\"PNQ-Pune\",\"MAA-Chennai\",\"GOI-Goa\"]\n",
    "destina=[\"PNQ-Pune\",\"GOI-Goa\",\"BOM-Mumbai\",\"DEL-Delhi\",\"CCU-Kolkata\",\"COK-Kochi\"]\n",
    "for i in range(0,4):#Using range function to pass one source at a time and checking it with all the other places accept itself\n",
    "    \n",
    "    for j in range(0,6):# Using loop in a loop so that all the possible combination of source and destination can form\n",
    "        \n",
    "        if boarding[i] != destina[j]:# Make sure that both source and destination should not be same\n",
    "            \n",
    "            for k in date_range:# passing date \n",
    "                url = \"https://paytm.com/flights/flightSearch/{}/{}/1/0/0/E/{}\".format(boarding[i],destina[j],k)\n",
    "                \n",
    "                driver.get(url)# Opening url\n",
    "                time.sleep(6)\n",
    "                \n",
    "                # Departure time from source\n",
    "                for l in driver.find_elements_by_xpath('//div[@class=\"_3H-S\"]'):\n",
    "                    departure_time.append(l.text)\n",
    "                # Arrival time at destination\n",
    "                for l in driver.find_elements_by_xpath('//div[@class=\"_3H-S _1wD5\"]'):\n",
    "                    arrival_time.append(l.text.split(\"\\n\")[0])\n",
    "                # Total duration    \n",
    "                for l in driver.find_elements_by_xpath('//div[@class=\"vY4t\"]'):\n",
    "                    duration.append(l.text)\n",
    "                # Price of the flight ticket    \n",
    "                for l in driver.find_elements_by_xpath('//div[@class=\"_1cxG\"]'):\n",
    "                    fare.append(int(l.text.replace(\",\",\"\")))\n",
    "                # Total stop    \n",
    "                for stop in driver.find_elements_by_xpath('//div[@class=\"_7BOG\"]'):\n",
    "                    stops.append(stop.text)\n",
    "                #Fetching Name            \n",
    "                for name in driver.find_elements_by_xpath('//div[@class=\"_3H-S _1Eia\"]'):\n",
    "                    Name.append(name.text)\n",
    "            \n",
    "       \n",
    "    # Fetching date, source and destination and replicate it to the  times of flight name present on the current page\n",
    "                for rem in range(0,len(driver.find_elements_by_xpath('//div[@class=\"_3H-S _1Eia\"]'))):\n",
    "                    date_of_journey.append(url.split(\"/\")[-1])\n",
    "                    source.append(url.split(\"/\")[-7])\n",
    "                    destination.append(url.split(\"/\")[-6])"
   ]
  },
  {
   "cell_type": "code",
   "execution_count": 6,
   "metadata": {},
   "outputs": [
    {
     "name": "stdout",
     "output_type": "stream",
     "text": [
      "14697 14697 14697 14697 14697 14697 14697 14697 14697\n"
     ]
    }
   ],
   "source": [
    "print(len(Name),len(departure_time),len(arrival_time),len(destination),len(source),len(fare),len(stops),len(duration),len(date_of_journey))"
   ]
  },
  {
   "cell_type": "code",
   "execution_count": 12,
   "metadata": {},
   "outputs": [],
   "source": [
    "df = pd.DataFrame({\"Name\":Name,\"Source\":source,\"destination\":destination,\"date_of_journey\":date_of_journey,\"fare\":fare,\n",
    "                  \"duration\":duration,\"arrival_time\":arrival_time,\"departure_time\":departure_time,\"stops\":stops})"
   ]
  },
  {
   "cell_type": "code",
   "execution_count": 13,
   "metadata": {},
   "outputs": [],
   "source": [
    "df.to_csv(\"Final_dataset.csv\")"
   ]
  },
  {
   "cell_type": "code",
   "execution_count": null,
   "metadata": {},
   "outputs": [],
   "source": []
  }
 ],
 "metadata": {
  "kernelspec": {
   "display_name": "Python 3",
   "language": "python",
   "name": "python3"
  },
  "language_info": {
   "codemirror_mode": {
    "name": "ipython",
    "version": 3
   },
   "file_extension": ".py",
   "mimetype": "text/x-python",
   "name": "python",
   "nbconvert_exporter": "python",
   "pygments_lexer": "ipython3",
   "version": "3.8.8"
  }
 },
 "nbformat": 4,
 "nbformat_minor": 4
}
